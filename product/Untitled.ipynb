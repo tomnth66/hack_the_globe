{
 "cells": [
  {
   "cell_type": "code",
   "execution_count": 27,
   "metadata": {},
   "outputs": [
    {
     "name": "stdout",
     "output_type": "stream",
     "text": [
      "240\n",
      "found  210\n"
     ]
    }
   ],
   "source": [
    "import random\n",
    "file = open(\"map.txt\")\n",
    "\n",
    "line = file.read()\n",
    "file.close()\n",
    "\n",
    "regions = line.split(\"dividekey\");\n",
    "\n",
    "print(len(regions))\n",
    "\n",
    "world = \"\"\n",
    "\n",
    "\n",
    "for idx, content in enumerate(regions):\n",
    "    if \"Brazil\" in content:\n",
    "        print(\"found \", idx)\n",
    "    fill_idx = content.find(\"fill\")\n",
    "    name_idx = content.find(\"name\")\n",
    "    \n",
    "    tail = content[name_idx+6:].split()\n",
    "#     print(tail)\n",
    "    \n",
    "    name = tail[0][:-1]\n",
    "#     print(name)\n",
    "    \n",
    "#     print(\"check idx\", name_idx)\n",
    "    \n",
    "#     color = \"\\\"#\"+str(r)+str(g)+str(b)+\"\\\"\"\n",
    "    color = \"\\\"#797979\\\"\"\n",
    "    add =f\"onmouseover=\\\"handleRegion(this, event)\\\" onmouseout=\\\"handleRegionMouseOut(this)\\\" id=\\\"country_{idx}\\\"\"\n",
    "    \n",
    "\n",
    "    new_content = content[:fill_idx] + \"fill=\" + color + add + content[fill_idx+14:]\n",
    "    new_id = f\"{name}:country_{idx}\"\n",
    "#     print(new_content)\n",
    "\n",
    "\n",
    "\n",
    "#     world = world + new_content.strip() + \"\\n\\n\"\n",
    "    \n",
    "    f= open(f\"regions/region_{idx}.txt\",\"w+\")\n",
    "    g= open(f\"regions_id/{name}_id.txt\",\"w+\")\n",
    "    \n",
    "    f.write(new_content)\n",
    "    g.write(new_id)\n",
    "    \n",
    "    f.close()\n",
    "    g.close()\n",
    "#     break\n",
    "\n",
    "\n",
    "# f = open(\"world/world.txt\",\"w+\");\n",
    "# f.write(world)\n",
    "\n",
    "f.close()\n",
    "\n",
    "    "
   ]
  }
 ],
 "metadata": {
  "kernelspec": {
   "display_name": "Python 3",
   "language": "python",
   "name": "python3"
  },
  "language_info": {
   "codemirror_mode": {
    "name": "ipython",
    "version": 3
   },
   "file_extension": ".py",
   "mimetype": "text/x-python",
   "name": "python",
   "nbconvert_exporter": "python",
   "pygments_lexer": "ipython3",
   "version": "3.6.8rc1"
  }
 },
 "nbformat": 4,
 "nbformat_minor": 4
}
